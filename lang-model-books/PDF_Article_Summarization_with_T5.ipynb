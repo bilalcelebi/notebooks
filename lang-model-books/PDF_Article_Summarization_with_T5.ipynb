{
  "nbformat": 4,
  "nbformat_minor": 0,
  "metadata": {
    "colab": {
      "provenance": []
    },
    "kernelspec": {
      "name": "python3",
      "display_name": "Python 3"
    },
    "language_info": {
      "name": "python"
    },
    "accelerator": "GPU",
    "gpuClass": "standard"
  },
  "cells": [
    {
      "cell_type": "code",
      "execution_count": null,
      "metadata": {
        "id": "qRqQWdTxoFC7"
      },
      "outputs": [],
      "source": [
        "!pip install git+https://github.com/huggingface/transformers\n",
        "!pip install torch\n",
        "!pip install plotly"
      ]
    },
    {
      "cell_type": "code",
      "source": [
        "!pip install pypdf[full]\n",
        "!pip install nltk"
      ],
      "metadata": {
        "id": "3xGRq6rtsiPk"
      },
      "execution_count": null,
      "outputs": []
    },
    {
      "cell_type": "code",
      "source": [
        "!cp -r /content/drive/MyDrive/pdfs /content"
      ],
      "metadata": {
        "id": "5OF0Xruisqy-"
      },
      "execution_count": 3,
      "outputs": []
    },
    {
      "cell_type": "code",
      "source": [
        "from pypdf import PdfReader\n",
        "import re\n",
        "import torch\n",
        "import os\n",
        "from transformers import pipeline, AutoModelForSeq2SeqLM,AutoTokenizer\n",
        "from tqdm.auto import tqdm\n",
        "\n",
        "files = [f'/content/pdfs/{name}' for name in os.listdir('/content/pdfs')]"
      ],
      "metadata": {
        "id": "LyAD7BK3wKsy"
      },
      "execution_count": 13,
      "outputs": []
    },
    {
      "cell_type": "code",
      "source": [
        "def clean_text(text):\n",
        "\n",
        "  text = re.sub('@','',text)\n",
        "  text = re.sub('http://\\S+|https://\\S+', '', text)\n",
        "  text = re.sub('http[s]?://\\S+', '', text)\n",
        "  text = re.sub(r\"http\\S+\", \"\", text)\n",
        "  text = text.split('\\n')\n",
        "  text = ''.join([str(word) for word in text])\n",
        "  text = text.split('\\t')\n",
        "  text = ''.join([str(word) for word in text if not word.isdigit()])\n",
        "  \n",
        "  return text"
      ],
      "metadata": {
        "id": "KVsmZrZQxLJS"
      },
      "execution_count": 5,
      "outputs": []
    },
    {
      "cell_type": "code",
      "source": [
        "def get_text(file):\n",
        "\n",
        "  reader = PdfReader(file)\n",
        "  text = []\n",
        "  for page in reader.pages:\n",
        "    content = clean_text(page.extract_text())\n",
        "    text.append(content)\n",
        "\n",
        "  text = '\\n'.join([chunk for chunk in text])\n",
        "\n",
        "  return str(text)"
      ],
      "metadata": {
        "id": "PhGQ9-5ExfXy"
      },
      "execution_count": 33,
      "outputs": []
    },
    {
      "cell_type": "code",
      "source": [
        "def bulk_extract(files):\n",
        "\n",
        "  texts = []\n",
        "\n",
        "  for file in files:\n",
        "\n",
        "    content = get_text(file)\n",
        "    texts.append(content)\n",
        "\n",
        "  return texts"
      ],
      "metadata": {
        "id": "CI9JWcU41k9e"
      },
      "execution_count": 34,
      "outputs": []
    },
    {
      "cell_type": "code",
      "source": [
        "# First Method HuggingFace Pipeline\n",
        "\n",
        "def get_pipeline():\n",
        "\n",
        "  summarizer = pipeline(\n",
        "    \"summarization\",\n",
        "    \"pszemraj/long-t5-tglobal-base-16384-book-summary\",\n",
        "    device=0 if torch.cuda.is_available() else -1,\n",
        "  )\n",
        "\n",
        "  return summarizer"
      ],
      "metadata": {
        "id": "bGorw0Sj2FsY"
      },
      "execution_count": 35,
      "outputs": []
    },
    {
      "cell_type": "code",
      "source": [
        "pipeline = get_pipeline()"
      ],
      "metadata": {
        "id": "z8r4WvCs27Gi"
      },
      "execution_count": 87,
      "outputs": []
    },
    {
      "cell_type": "code",
      "source": [
        "def summarize(content):\n",
        "  \n",
        "  sum = pipeline(content)\n",
        "  sum = sum[0][\"summary_text\"]\n",
        "\n",
        "  return sum"
      ],
      "metadata": {
        "id": "CqkhCQ0v3JJl"
      },
      "execution_count": 88,
      "outputs": []
    },
    {
      "cell_type": "code",
      "source": [
        "# Second Way is More 'Manual'\n",
        "\n",
        "def load_model_and_tokenizer():\n",
        "\n",
        "  device = \"cuda\" if torch.cuda.is_available() else \"cpu\"\n",
        "  model = AutoModelForSeq2SeqLM.from_pretrained('pszemraj/long-t5-tglobal-base-16384-book-summary').to(device)\n",
        "  tokenizer = AutoTokenizer.from_pretrained('pszemraj/long-t5-tglobal-base-16384-book-summary')\n",
        "\n",
        "  return model, tokenizer"
      ],
      "metadata": {
        "id": "6lLyQsWc46V4"
      },
      "execution_count": 18,
      "outputs": []
    },
    {
      "cell_type": "code",
      "source": [
        "def summarize_and_score(ids, mask, model, tokenizer, is_general_attention_model=True, **kwargs):\n",
        " \n",
        "    ids = ids[None, :]\n",
        "    mask = mask[None, :]\n",
        "\n",
        "    input_ids = ids.to(\"cuda\") if torch.cuda.is_available() else ids\n",
        "    attention_mask = mask.to(\"cuda\") if torch.cuda.is_available() else mask\n",
        "\n",
        "    global_attention_mask = torch.zeros_like(attention_mask)\n",
        "    global_attention_mask[:, 0] = 1\n",
        "\n",
        "    if is_general_attention_model:\n",
        "        summary_pred_ids = model.generate(\n",
        "            input_ids,\n",
        "            attention_mask=attention_mask,\n",
        "            output_scores=True,\n",
        "            return_dict_in_generate=True,\n",
        "            **kwargs,\n",
        "        )\n",
        "    else:\n",
        "        summary_pred_ids = model.generate(\n",
        "            input_ids,\n",
        "            attention_mask=attention_mask,\n",
        "            global_attention_mask=global_attention_mask,\n",
        "            output_scores=True,\n",
        "            return_dict_in_generate=True,\n",
        "            **kwargs,\n",
        "        )\n",
        "    summary = tokenizer.batch_decode(\n",
        "        summary_pred_ids.sequences,\n",
        "        skip_special_tokens=True,\n",
        "        remove_invalid_values=True,\n",
        "    )\n",
        "\n",
        "    score = round(summary_pred_ids.sequences_scores.cpu().numpy()[0], 4)\n",
        "\n",
        "    return summary, score"
      ],
      "metadata": {
        "id": "W_Xbjq6W62aa"
      },
      "execution_count": 74,
      "outputs": []
    },
    {
      "cell_type": "code",
      "source": [
        "def summarize_long(input_text, model, tokenizer, batch_length = 2048, batch_stride = 16):\n",
        "\n",
        "  encode_input = tokenizer(\n",
        "      input_text,\n",
        "      padding = 'max_length',\n",
        "      truncation = True,\n",
        "      max_length = batch_length,\n",
        "      stride = batch_stride,\n",
        "      return_overflowing_tokens=True,\n",
        "      add_special_tokens=False,\n",
        "      return_tensors=\"pt\",\n",
        "   )\n",
        "\n",
        "  input_ids, attention_masks = encode_input.input_ids, encode_input.attention_mask\n",
        "\n",
        "  summaries = []\n",
        "\n",
        "  pbar = tqdm(total=len(input_ids))\n",
        "\n",
        "  for _id, _mask in zip(input_ids, attention_masks):\n",
        "\n",
        "        result, score = summarize_and_score(\n",
        "            ids=_id,\n",
        "            mask=_mask,\n",
        "            model=model,\n",
        "            tokenizer=tokenizer,\n",
        "        )\n",
        "        score = round(float(score), 0)\n",
        "        _sum = {\n",
        "            \"input_tokens\": _id,\n",
        "            \"summary\": result,\n",
        "            \"summary_score\": score,\n",
        "        }\n",
        "        summaries.append(_sum)\n",
        "        pbar.update()\n",
        "\n",
        "  pbar.close()\n",
        "\n",
        "  return summaries\n"
      ],
      "metadata": {
        "id": "PzJkNWqv5vv1"
      },
      "execution_count": 75,
      "outputs": []
    },
    {
      "cell_type": "code",
      "source": [
        "model,tokenizer = load_model_and_tokenizer()"
      ],
      "metadata": {
        "id": "nAdSs_ok7WZU"
      },
      "execution_count": 21,
      "outputs": []
    },
    {
      "cell_type": "code",
      "source": [
        "def get_best(results):\n",
        "\n",
        "  score = results[0]['summary_score']\n",
        "  best_one = results[0]['summary']\n",
        "\n",
        "  for result in results:\n",
        "\n",
        "    if result['summary_score'] > score:\n",
        "\n",
        "      best_one = result['summary']\n",
        "\n",
        "  return best_one"
      ],
      "metadata": {
        "id": "l49wUOCh8LVv"
      },
      "execution_count": 29,
      "outputs": []
    },
    {
      "cell_type": "code",
      "source": [
        "def get_median(results):\n",
        "\n",
        "  scores = []\n",
        "\n",
        "  for result in results:\n",
        "\n",
        "    scores.append(result['summary_score'])\n",
        "\n",
        "  median = round(float(len(scores)) / 2, 0)\n",
        "\n",
        "  best_one = results[int(median)]\n",
        "\n",
        "  return best_one['summary']\n"
      ],
      "metadata": {
        "id": "ixNa--UBAB_y"
      },
      "execution_count": 61,
      "outputs": []
    },
    {
      "cell_type": "code",
      "source": [
        "def bulk_summarize(files, method = 'pipeline', best_one = 'score'):\n",
        "\n",
        "  contents = bulk_extract(files)\n",
        "  summarizes = []\n",
        "\n",
        "  if method == 'pipeline':\n",
        "\n",
        "    for content in contents:\n",
        "\n",
        "      result = summarize(str(content))\n",
        "      summarizes.append(result)\n",
        "\n",
        "  else:\n",
        "\n",
        "    for content in contents:\n",
        "\n",
        "      result = summarize_long(content,model,tokenizer)\n",
        "\n",
        "      if best_one == 'score':\n",
        "\n",
        "        result = get_best(result)\n",
        "\n",
        "      else:\n",
        "\n",
        "        result = get_median(result)\n",
        "\n",
        "      summarizes.append(result)\n",
        "\n",
        "  return summarizes    "
      ],
      "metadata": {
        "id": "FxR7K8BI8_Tt"
      },
      "execution_count": 82,
      "outputs": []
    },
    {
      "cell_type": "code",
      "source": [
        "def save_results(results):\n",
        "\n",
        "  with open('output.txt', 'w') as f:\n",
        "\n",
        "    for result in results:\n",
        "\n",
        "      f.write(result[0] + '\\n\\n\\n')"
      ],
      "metadata": {
        "id": "nPqrH83LDwi9"
      },
      "execution_count": 70,
      "outputs": []
    },
    {
      "cell_type": "code",
      "source": [
        "def apply(files_path, method, choose_method, save = True):\n",
        "\n",
        "  files = [f'{files_path}/{file_name}' for file_name in os.listdir(files_path)]\n",
        "  results = bulk_summarize(files, method = method, best_one = choose_method)\n",
        "\n",
        "  if save == True:\n",
        "\n",
        "    save_results(results)\n",
        "\n",
        "  else:\n",
        "\n",
        "    for result in results:\n",
        "\n",
        "      print(result[0])\n"
      ],
      "metadata": {
        "id": "E-YxvPHhHEYT"
      },
      "execution_count": 72,
      "outputs": []
    },
    {
      "cell_type": "code",
      "source": [
        "apply(files_path = '/content/pdfs', method = 'other', choose_method = 'median', save = True)"
      ],
      "metadata": {
        "id": "rExvCIZrH99A"
      },
      "execution_count": null,
      "outputs": []
    }
  ]
}